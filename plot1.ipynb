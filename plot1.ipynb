{
 "cells": [
  {
   "cell_type": "code",
   "execution_count": 1,
   "metadata": {
    "collapsed": true
   },
   "outputs": [],
   "source": [
    "import csv\n",
    "import numpy as np\n",
    "import pandas as pd\n",
    "import glob\n",
    "import pickle\n",
    "from pylab import *"
   ]
  },
  {
   "cell_type": "code",
   "execution_count": 2,
   "metadata": {
    "collapsed": true
   },
   "outputs": [],
   "source": [
    "%matplotlib inline"
   ]
  },
  {
   "cell_type": "code",
   "execution_count": 23,
   "metadata": {},
   "outputs": [],
   "source": [
    "pd.set_option('display.max_rows', 100000000)\n",
    "pd.set_option('display.max_columns', 10)\n",
    "pd.set_option('display.width', 1000)\n",
    "\n",
    "path = [\"/home/petr/datainc/2013\", \"/home/petr/datainc/2014\", \"/home/petr/datainc/data_2015\",\n",
    "  \"/home/petr/datainc/data_Q1_2016\", \"/home/petr/datainc/data_Q2_2016\",\n",
    "  \"/home/petr/datainc/data_Q3_2016\", \"/home/petr/datainc/data_Q4_2016\",\n",
    "  \"/home/petr/datainc/data_Q1_2017\", \"/home/petr/datainc/data_Q2_2017\"]\n",
    "#path = [\"/home/petr/datainc/2013\"]\n",
    "allFiles = []\n",
    "for path_ in path:\n",
    "  allFiles += glob.glob(path_ + \"/*.csv\")\n",
    "\n",
    "allFiles.sort()\n"
   ]
  },
  {
   "cell_type": "code",
   "execution_count": 24,
   "metadata": {},
   "outputs": [],
   "source": [
    "models_hist = {}\n",
    "\n",
    "#count = 0\n",
    "for file_ in allFiles:\n",
    "  df = pd.read_csv(file_, index_col=None, header=0, usecols=['model','failure','smart_9_raw'])\n",
    "  df = df[df[\"failure\"]==1]\n",
    "  if (len(df) > 0):\n",
    "    for m, h in zip(df['model'], df['smart_9_raw']):\n",
    "      if not m in models_hist:\n",
    "        models_hist[m] = [h]\n",
    "      else:\n",
    "        models_hist[m] += [h]\n",
    "\n",
    "pickle_out = open(\"model_hist.pickle\",\"wb\")\n",
    "pickle.dump(models_hist, pickle_out)\n",
    "pickle_out.close()\n"
   ]
  },
  {
   "cell_type": "code",
   "execution_count": 20,
   "metadata": {},
   "outputs": [],
   "source": [
    "pickle_in = open(\"model_hist.pickle\",\"rb\")\n",
    "models_hist = pickle.load(pickle_in)"
   ]
  },
  {
   "cell_type": "code",
   "execution_count": 21,
   "metadata": {},
   "outputs": [
    {
     "data": {
      "image/png": "[encoded data removed]",
      "text/plain": [
       "<matplotlib.figure.Figure at 0x7f43e6078dd0>"
      ]
     },
     "metadata": {},
     "output_type": "display_data"
    }
   ],
   "source": [
    "model = 'Hitachi HDS722020ALA330'\n",
    "plt.xlabel(\"Time-To-Failure (Days)\")\n",
    "plt.ylabel(\"Number of Failures\")\n",
    "plt.title(\"Time-To-Failure Histogram for \" + model)\n",
    "plt.hist([x/24 for x in models_hist[model]], bins=20)\n",
    "plt.show()"
   ]
  },
  {
   "cell_type": "code",
   "execution_count": null,
   "metadata": {
    "collapsed": true
   },
   "outputs": [],
   "source": []
  }
 ],
 "metadata": {
  "kernelspec": {
   "display_name": "Python 2",
   "language": "python",
   "name": "python2"
  },
  "language_info": {
   "codemirror_mode": {
    "name": "ipython",
    "version": 2
   },
   "file_extension": ".py",
   "mimetype": "text/x-python",
   "name": "python",
   "nbconvert_exporter": "python",
   "pygments_lexer": "ipython2",
   "version": "2.7.13"
  }
 },
 "nbformat": 4,
 "nbformat_minor": 2
}
