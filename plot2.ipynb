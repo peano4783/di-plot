{
 "cells": [
  {
   "cell_type": "code",
   "execution_count": 65,
   "metadata": {
    "collapsed": true
   },
   "outputs": [],
   "source": [
    "import csv\n",
    "import numpy as np\n",
    "import pandas as pd\n",
    "import glob\n",
    "import pickle"
   ]
  },
  {
   "cell_type": "code",
   "execution_count": 66,
   "metadata": {
    "collapsed": true
   },
   "outputs": [],
   "source": [
    "from pylab import *"
   ]
  },
  {
   "cell_type": "code",
   "execution_count": 67,
   "metadata": {
    "collapsed": true
   },
   "outputs": [],
   "source": [
    "%matplotlib inline"
   ]
  },
  {
   "cell_type": "code",
   "execution_count": 101,
   "metadata": {},
   "outputs": [],
   "source": [
    "pd.set_option('display.max_rows', 100000000)\n",
    "pd.set_option('display.max_columns', 10)\n",
    "pd.set_option('display.width', 1000)\n",
    "\n",
    "path = [\"/home/petr/datainc/2013\", \"/home/petr/datainc/2014\", \"/home/petr/datainc/data_2015\",\n",
    "  \"/home/petr/datainc/data_Q1_2016\", \"/home/petr/datainc/data_Q2_2016\",\n",
    "  \"/home/petr/datainc/data_Q3_2016\", \"/home/petr/datainc/data_Q4_2016\",\n",
    "  \"/home/petr/datainc/data_Q1_2017\", \"/home/petr/datainc/data_Q2_2017\"]\n",
    "path = [\"/home/petr/datainc/2013\"]\n",
    "allFiles = []\n",
    "for path_ in path:\n",
    "  allFiles += glob.glob(path_ + \"/*.csv\")\n",
    "  \n",
    "allFiles.sort()\n",
    "\n",
    "for i, fn in enumerate(allFiles):\n",
    "  allFiles[i] = [fn, (int(fn[-14:-10])-2013)*12 + int(fn[-9:-7])- 4]\n"
   ]
  },
  {
   "cell_type": "code",
   "execution_count": null,
   "metadata": {},
   "outputs": [],
   "source": []
  },
  {
   "cell_type": "code",
   "execution_count": 106,
   "metadata": {},
   "outputs": [
    {
     "name": "stdout",
     "output_type": "stream",
     "text": [
      "[[45.0, 452821.0], [123.0, 687503.0], [81.0, 679860.0], [110.0, 723411.0], [49.0, 460663.0], [4.0, 25200.0], [69.0, 441807.0], [124.0, 788120.0], [135.0, 832116.0]]\n"
     ]
    }
   ],
   "source": [
    "failures_and_total = [[0.,0.] for i in range(max([x[1] for x in allFiles])+1)]\n",
    "\n",
    "for file_ in allFiles:\n",
    "  df = pd.read_csv(file_[0], index_col=None, header=0,usecols=[\"failure\"])\n",
    "  failures_count = len(df[df[\"failure\"]==1])\n",
    "  total_count = len(df)\n",
    "  failures_and_total[file_[1]][0] += failures_count\n",
    "  failures_and_total[file_[1]][1] += total_count\n",
    "\n",
    "print failures_and_total\n",
    "\n",
    "pickle_out = open(\"failures_and_total.pickle\",\"wb\")\n",
    "pickle.dump(failures_and_total, pickle_out)\n",
    "pickle_out.close()\n"
   ]
  },
  {
   "cell_type": "code",
   "execution_count": 112,
   "metadata": {},
   "outputs": [
    {
     "name": "stdout",
     "output_type": "stream",
     "text": [
      "[[45.0, 452821.0], [123.0, 687503.0], [81.0, 679860.0], [110.0, 723411.0], [49.0, 460663.0], [4.0, 25200.0], [69.0, 441807.0], [124.0, 788120.0], [135.0, 832116.0]]\n",
      "[9.937701652529366e-05, 0.00017890831021828268, 0.00011914217633042097, 0.00015205740581771636, 0.00010636842985002051, 0.00015873015873015873, 0.00015617679212868969, 0.00015733644622646298, 0.0001622369958034697]\n"
     ]
    }
   ],
   "source": [
    "pickle_in = open(\"failures_and_total.pickle\",\"rb\")\n",
    "failures_and_total = pickle.load(pickle_in)\n",
    "failures_fraction = [x[0]/x[1] for x in failures_and_total]\n"
   ]
  },
  {
   "cell_type": "code",
   "execution_count": 113,
   "metadata": {},
   "outputs": [
    {
     "data": {
      "image/png": "[encoded data removed]",
      "text/plain": [
       "<matplotlib.figure.Figure at 0x7f2020f4e2d0>"
      ]
     },
     "metadata": {},
     "output_type": "display_data"
    }
   ],
   "source": [
    "plt.xlabel(\"Time (Months)\")\n",
    "plt.ylabel(\"Failure Rate\")\n",
    "plt.title(\"Fraction of failures over time\")\n",
    "plt.plot(failures_fraction)\n",
    "plt.show()"
   ]
  },
  {
   "cell_type": "code",
   "execution_count": null,
   "metadata": {
    "collapsed": true
   },
   "outputs": [],
   "source": []
  }
 ],
 "metadata": {
  "kernelspec": {
   "display_name": "Python 2",
   "language": "python",
   "name": "python2"
  },
  "language_info": {
   "codemirror_mode": {
    "name": "ipython",
    "version": 2
   },
   "file_extension": ".py",
   "mimetype": "text/x-python",
   "name": "python",
   "nbconvert_exporter": "python",
   "pygments_lexer": "ipython2",
   "version": "2.7.13"
  }
 },
 "nbformat": 4,
 "nbformat_minor": 2
}
