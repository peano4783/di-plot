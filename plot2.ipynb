{
 "cells": [
  {
   "cell_type": "code",
   "execution_count": 65,
   "metadata": {
    "collapsed": true
   },
   "outputs": [],
   "source": [
    "import csv\n",
    "import numpy as np\n",
    "import pandas as pd\n",
    "import glob\n",
    "import pickle"
   ]
  },
  {
   "cell_type": "code",
   "execution_count": 66,
   "metadata": {
    "collapsed": true
   },
   "outputs": [],
   "source": [
    "from pylab import *"
   ]
  },
  {
   "cell_type": "code",
   "execution_count": 67,
   "metadata": {
    "collapsed": true
   },
   "outputs": [],
   "source": [
    "%matplotlib inline"
   ]
  },
  {
   "cell_type": "code",
   "execution_count": 68,
   "metadata": {},
   "outputs": [],
   "source": [
    "pd.set_option('display.max_rows', 100000000)\n",
    "pd.set_option('display.max_columns', 10)\n",
    "pd.set_option('display.width', 1000)\n",
    "\n",
    "path = [\"/home/petr/datainc/2013\", \"/home/petr/datainc/2014\", \"/home/petr/datainc/data_2015\",\n",
    "  \"/home/petr/datainc/data_Q1_2016\", \"/home/petr/datainc/data_Q2_2016\",\n",
    "  \"/home/petr/datainc/data_Q3_2016\", \"/home/petr/datainc/data_Q4_2016\",\n",
    "  \"/home/petr/datainc/data_Q1_2017\", \"/home/petr/datainc/data_Q2_2017\"]\n",
    "path = [\"/home/petr/datainc/2013\"]\n",
    "allFiles = []\n",
    "for path_ in path:\n",
    "  allFiles += glob.glob(path_ + \"/*.csv\")\n",
    "  \n",
    "allFiles.sort()\n",
    "\n",
    "for i, fn in enumerate(allFiles):\n",
    "  allFiles[i] = [fn, (int(fn[-14:-10])-2013)*12 + int(fn[-9:-7])- 4]\n"
   ]
  },
  {
   "cell_type": "code",
   "execution_count": 83,
   "metadata": {},
   "outputs": [
    {
     "name": "stdout",
     "output_type": "stream",
     "text": [
      "/home/petr/datainc/2013/2013-04-10.csv\n",
      "0    0\n",
      "1    0\n",
      "2    0\n",
      "3    0\n",
      "4    0\n",
      "5    0\n",
      "6    0\n",
      "7    0\n",
      "8    0\n",
      "9    0\n",
      "Name: failure, dtype: int64\n"
     ]
    }
   ],
   "source": [
    "allFiles\n",
    "for file_ in allFiles:\n",
    "  df = pd.read_csv(file_[0], index_col=None, header=0,usecols=[\"failure\"])\n",
    "  print file_[0]\n",
    "  print df[\"failure\"][:10]\n",
    "  break\n",
    "\n",
    "#pickle_out = open(\"month_failures.pickle\",\"wb\")\n",
    "#pickle.dump(models_hist, pickle_out)\n",
    "#pickle_out.close()\n"
   ]
  },
  {
   "cell_type": "code",
   "execution_count": 6,
   "metadata": {
    "collapsed": true
   },
   "outputs": [],
   "source": [
    "pickle_in = open(\"model_hist.pickle\",\"rb\")\n",
    "models_hist = pickle.load(pickle_in)"
   ]
  },
  {
   "cell_type": "code",
   "execution_count": 7,
   "metadata": {},
   "outputs": [
    {
     "data": {
      "image/png": "[encoded data removed]",
      "text/plain": [
       "<matplotlib.figure.Figure at 0x7f202cba6fd0>"
      ]
     },
     "metadata": {},
     "output_type": "display_data"
    }
   ],
   "source": [
    "model = 'Hitachi HDS722020ALA330'\n",
    "plt.xlabel(\"Time-To-Failure (Days)\")\n",
    "plt.ylabel(\"Numer of Failures\")\n",
    "plt.title(\"Time-To-Failure Histogram for \" + model)\n",
    "plt.hist([x/24 for x in models_hist[model]], bins=20)\n",
    "plt.show()"
   ]
  },
  {
   "cell_type": "code",
   "execution_count": null,
   "metadata": {
    "collapsed": true
   },
   "outputs": [],
   "source": []
  }
 ],
 "metadata": {
  "kernelspec": {
   "display_name": "Python 2",
   "language": "python",
   "name": "python2"
  },
  "language_info": {
   "codemirror_mode": {
    "name": "ipython",
    "version": 2
   },
   "file_extension": ".py",
   "mimetype": "text/x-python",
   "name": "python",
   "nbconvert_exporter": "python",
   "pygments_lexer": "ipython2",
   "version": "2.7.13"
  }
 },
 "nbformat": 4,
 "nbformat_minor": 2
}
